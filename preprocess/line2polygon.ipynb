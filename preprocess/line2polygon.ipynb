{
 "cells": [
  {
   "cell_type": "code",
   "execution_count": 75,
   "metadata": {},
   "outputs": [],
   "source": [
    "import json\n",
    "import PIL\n",
    "import copy\n",
    "import os"
   ]
  },
  {
   "cell_type": "code",
   "execution_count": 76,
   "metadata": {},
   "outputs": [],
   "source": [
    "target_dir = \"./second_test\"\n",
    "target_name = \"test_07.json\"\n",
    "\n",
    "line_strip_path = os.path.join(target_dir, target_name)\n",
    "with open(line_strip_path) as f:\n",
    "    line_strip = json.load(f)"
   ]
  },
  {
   "cell_type": "code",
   "execution_count": 77,
   "metadata": {},
   "outputs": [],
   "source": [
    "# 画像手前をセグメンテーションに入れない場合\n",
    "# 出力用辞書\n",
    "copy_dict = copy.deepcopy(line_strip)\n",
    "\n",
    "left_dict = copy_dict['shapes'][0]\n",
    "right_dict = copy_dict['shapes'][1]\n",
    "right_dict['points'].reverse()  # 右ラインを逆順にしないとpolygonにならない\n",
    "\n",
    "left_dict[\"points\"].extend(right_dict[\"points\"])  # ラインの座標を連結\n",
    "\n",
    "# 左ラインだった場所をpolygon情報に上書き\n",
    "copy_dict['shapes'][0]['label'] = \"road\"\n",
    "copy_dict['shapes'][0]['points'] = left_dict['points']\n",
    "copy_dict['shapes'][0]['shape_type'] = 'polygon'\n",
    "\n",
    "# 右ライン情報を削除\n",
    "del copy_dict['shapes'][1]"
   ]
  },
  {
   "cell_type": "code",
   "execution_count": 78,
   "metadata": {},
   "outputs": [
    {
     "name": "stdout",
     "output_type": "stream",
     "text": [
      "[[0, 440.10289992927], [0, 480]]\n",
      "[[640, 438.5983320831312], [640, 480]]\n"
     ]
    }
   ],
   "source": [
    "X_MAX = 640\n",
    "Y_MAX = 480\n",
    "# 画像手前をセグメンテーションに入れる場合\n",
    "# 座標は, 画像左上を原点とし, 右方向がx正, 下方向がy正\n",
    "# 出力用辞書\n",
    "copy_dict = copy.deepcopy(line_strip)\n",
    "\n",
    "left_dict = copy_dict['shapes'][0]\n",
    "right_dict = copy_dict['shapes'][1]\n",
    "\n",
    "left_first_point = left_dict[\"points\"][-1]  # 一番手前の点\n",
    "left_second_point = left_dict[\"points\"][-2]  # 二番目に手前の点\n",
    "\n",
    "# 大抵の場合負の値になる, yの増加量/xの増加量\n",
    "left_slope = (left_first_point[1] - left_second_point[1]) \\\n",
    "    / (left_first_point[0] - left_second_point[0])\n",
    "\n",
    "# 直線の延長が先に画像の左端に当たった場合\n",
    "if (0 - left_first_point[0])*left_slope + left_first_point[1] < Y_MAX:\n",
    "    left_added_point = [[0, (0 - left_first_point[0])*left_slope + left_first_point[1]],\n",
    "     [0, Y_MAX]]\n",
    "# 直線の延長が先に画像の下端に当たった場合\n",
    "else:\n",
    "    left_added_point = [[left_first_point[0] + (Y_MAX - left_first_point[1])/left_slope ,Y_MAX]]\n",
    "\n",
    "\n",
    "right_first_point = right_dict[\"points\"][-1]  # 一番手前の点\n",
    "right_second_point = right_dict[\"points\"][-2]  # 二番目に手前の点\n",
    "\n",
    "# 大抵の場合正の値になる, yの増加量/xの増加量\n",
    "right_slope = (right_first_point[1] - right_second_point[1]) \\\n",
    "    / (right_first_point[0] - right_second_point[0])\n",
    "\n",
    "# 直線の延長が先に画像の右端に当たった場合\n",
    "if (X_MAX - right_first_point[0])*right_slope + right_first_point[1] < Y_MAX:\n",
    "    right_added_point = [[X_MAX, (X_MAX - right_first_point[0])*right_slope + right_first_point[1]],\n",
    "    [X_MAX, Y_MAX]]\n",
    "# 直線の延長が先に画像の下端に当たった場合\n",
    "else:\n",
    "    right_added_point = [[right_first_point[0] + (Y_MAX - right_first_point[1])/right_slope ,Y_MAX]]\n",
    "\n",
    "print(left_added_point)\n",
    "print(right_added_point)\n",
    "\n",
    "left_dict['points'].extend(left_added_point)\n",
    "right_dict['points'].extend(right_added_point)\n",
    "right_dict['points'].reverse()\n",
    "\n",
    "left_dict[\"points\"].extend(right_dict[\"points\"])  # ラインの座標を連結\n",
    "\n",
    "# 左ラインだった場所をpolygon情報に上書き\n",
    "copy_dict['shapes'][0]['label'] = \"road\"\n",
    "copy_dict['shapes'][0]['points'] = left_dict['points']\n",
    "copy_dict['shapes'][0]['shape_type'] = 'polygon'\n",
    "\n",
    "# 右ライン情報を削除\n",
    "del copy_dict['shapes'][1]"
   ]
  },
  {
   "cell_type": "code",
   "execution_count": 79,
   "metadata": {},
   "outputs": [],
   "source": [
    "# jsonファイルの書き出し\n",
    "convert_name = \"converted_\" + target_name\n",
    "output_path = os.path.join(target_dir, convert_name)\n",
    "with open(output_path, \"w\") as f:\n",
    "    json.dump(copy_dict, f)"
   ]
  },
  {
   "cell_type": "code",
   "execution_count": 81,
   "metadata": {},
   "outputs": [
    {
     "data": {
      "text/plain": [
       "['./second_test/test_01.json',\n",
       " './second_test/test_16.json',\n",
       " './second_test/test_11.json',\n",
       " './second_test/test_07.json',\n",
       " './second_test/test_06.json',\n",
       " './second_test/test_10.json',\n",
       " './second_test/test_05.json',\n",
       " './second_test/test_13.json',\n",
       " './second_test/test_09.json',\n",
       " './second_test/test_08.json',\n",
       " './second_test/test_12.json',\n",
       " './second_test/test_04.json',\n",
       " './second_test/test_03.json',\n",
       " './second_test/test_15.json',\n",
       " './second_test/test_14.json',\n",
       " './second_test/test_02.json']"
      ]
     },
     "execution_count": 81,
     "metadata": {},
     "output_type": "execute_result"
    }
   ],
   "source": [
    "import glob\n",
    "glob.glob(\"./second_test/*json\")"
   ]
  },
  {
   "cell_type": "code",
   "execution_count": 83,
   "metadata": {},
   "outputs": [
    {
     "data": {
      "text/plain": [
       "-1"
      ]
     },
     "execution_count": 83,
     "metadata": {},
     "output_type": "execute_result"
    }
   ],
   "source": [
    "\"abc_sss\".find(\"afc\")"
   ]
  },
  {
   "cell_type": "code",
   "execution_count": null,
   "metadata": {},
   "outputs": [],
   "source": []
  }
 ],
 "metadata": {
  "kernelspec": {
   "display_name": "Python 3.8.3 64-bit",
   "language": "python",
   "name": "python3"
  },
  "language_info": {
   "codemirror_mode": {
    "name": "ipython",
    "version": 3
   },
   "file_extension": ".py",
   "mimetype": "text/x-python",
   "name": "python",
   "nbconvert_exporter": "python",
   "pygments_lexer": "ipython3",
   "version": "3.8.3"
  },
  "orig_nbformat": 4,
  "vscode": {
   "interpreter": {
    "hash": "082e9a3bcad0a290d0001e938aa60b99250c6c2ef33a923c00b70f9826caf4b7"
   }
  }
 },
 "nbformat": 4,
 "nbformat_minor": 2
}
