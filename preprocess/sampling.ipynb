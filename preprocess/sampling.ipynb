{
 "cells": [
  {
   "cell_type": "markdown",
   "metadata": {},
   "source": [
    "# サンプリング用プログラム"
   ]
  },
  {
   "cell_type": "markdown",
   "metadata": {},
   "source": [
    "## 概要\n",
    "水路検出用のデータは、データセットを作成するのにはフレームレートが高すぎるため、似たようなデータが混じってしまう。よって、ある程度の粒度でサンプリングを行う。"
   ]
  },
  {
   "cell_type": "code",
   "execution_count": 13,
   "metadata": {},
   "outputs": [],
   "source": [
    "TARGET_DIR = '../raw_data/9_9/2022_9_9_16_44/output'  # サンプリング元jpg格納ディレクトリ\n",
    "OUT_DIR = '../raw_data/9_9/2022_9_9_16_44/sampled_output'  # サンプリング後ディレクトリ\n",
    "START = 450  # スタートフレーム\n",
    "END = 3830  # 最終フレーム\n",
    "STEP = 5  # フレーム間"
   ]
  },
  {
   "cell_type": "code",
   "execution_count": 7,
   "metadata": {},
   "outputs": [
    {
     "data": {
      "text/plain": [
       "['../raw_data/9_9/2022_9_9_16_44/output/00000000.jpg',\n",
       " '../raw_data/9_9/2022_9_9_16_44/output/00000001.jpg',\n",
       " '../raw_data/9_9/2022_9_9_16_44/output/00000002.jpg']"
      ]
     },
     "execution_count": 7,
     "metadata": {},
     "output_type": "execute_result"
    }
   ],
   "source": [
    "import glob\n",
    "import os\n",
    "jpg_list = glob.glob(os.path.join(TARGET_DIR, '*jpg'))\n",
    "jpg_list.sort()\n",
    "jpg_list[0:3]"
   ]
  },
  {
   "cell_type": "code",
   "execution_count": 11,
   "metadata": {},
   "outputs": [
    {
     "name": "stdout",
     "output_type": "stream",
     "text": [
      "['../raw_data/9_9/2022_9_9_16_44/output/00000450.jpg', '../raw_data/9_9/2022_9_9_16_44/output/00000455.jpg', '../raw_data/9_9/2022_9_9_16_44/output/00000460.jpg', '../raw_data/9_9/2022_9_9_16_44/output/00000465.jpg', '../raw_data/9_9/2022_9_9_16_44/output/00000470.jpg']\n"
     ]
    }
   ],
   "source": [
    "sampled_list = jpg_list[START:END:STEP]\n",
    "print(sampled_list[0:5])"
   ]
  },
  {
   "cell_type": "code",
   "execution_count": 15,
   "metadata": {},
   "outputs": [
    {
     "name": "stdout",
     "output_type": "stream",
     "text": [
      "676 files are copied to ../raw_data/9_9/2022_9_9_16_44/sampled_output\n"
     ]
    }
   ],
   "source": [
    "import shutil\n",
    "os.mkdir(OUT_DIR)\n",
    "sample_num = 0\n",
    "for jpg_path in sampled_list:\n",
    "    name = jpg_path.split('/')[-1]\n",
    "    dst_path = os.path.join(OUT_DIR, name)\n",
    "    sample_num += 1\n",
    "    shutil.copy(jpg_path, dst_path)\n",
    "print('{} files are copied to {}'.format(sample_num, OUT_DIR))"
   ]
  }
 ],
 "metadata": {
  "kernelspec": {
   "display_name": "Python 3.8.3 64-bit",
   "language": "python",
   "name": "python3"
  },
  "language_info": {
   "codemirror_mode": {
    "name": "ipython",
    "version": 3
   },
   "file_extension": ".py",
   "mimetype": "text/x-python",
   "name": "python",
   "nbconvert_exporter": "python",
   "pygments_lexer": "ipython3",
   "version": "3.8.3"
  },
  "orig_nbformat": 4,
  "vscode": {
   "interpreter": {
    "hash": "082e9a3bcad0a290d0001e938aa60b99250c6c2ef33a923c00b70f9826caf4b7"
   }
  }
 },
 "nbformat": 4,
 "nbformat_minor": 2
}
